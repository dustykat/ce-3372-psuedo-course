{
 "cells": [
  {
   "cell_type": "code",
   "execution_count": 1,
   "metadata": {},
   "outputs": [
    {
     "name": "stdout",
     "output_type": "stream",
     "text": [
      "/home/polaris/ce3372-psuedo-course\n"
     ]
    }
   ],
   "source": [
    "! pwd"
   ]
  },
  {
   "cell_type": "code",
   "execution_count": 2,
   "metadata": {},
   "outputs": [
    {
     "name": "stdout",
     "output_type": "stream",
     "text": [
      "total 56\n",
      "drwxrwxr-x  7 polaris polaris 4096 Oct 16 23:30 .\n",
      "drwxr-xr-x 15 polaris polaris 4096 Oct 16 22:26 ..\n",
      "-rw-rw-r--  1 polaris polaris 6148 Oct 16 22:26 .DS_Store\n",
      "drwxrwxr-x  8 polaris polaris 4096 Oct 16 22:30 .git\n",
      "drwxrwxr-x  2 polaris polaris 4096 Oct 16 22:26 .ipynb_checkpoints\n",
      "drwxrwxr-x  3 polaris polaris 4096 Oct 16 22:26 1-Lessons\n",
      "drwxrwxr-x  2 polaris polaris 4096 Oct 16 22:30 10-Tests-BB-Format\n",
      "drwxrwxr-x 19 polaris polaris 4096 Oct 16 22:26 EPANET-Files\n",
      "-rw-rw-r--  1 polaris polaris  704 Oct 16 16:53 README.md\n",
      "-rw-rw-r--  1 polaris polaris 2421 Oct 16 23:30 Untitled.ipynb\n",
      "-rw-rw-r--  1 polaris polaris 5923 Oct 16 16:53 index.html\n",
      "-rw-rw-r--  1 polaris polaris 3574 Oct 16 16:53 styles.css\n"
     ]
    }
   ],
   "source": [
    "! ls -la"
   ]
  },
  {
   "cell_type": "code",
   "execution_count": 4,
   "metadata": {},
   "outputs": [
    {
     "name": "stdout",
     "output_type": "stream",
     "text": [
      "remote: Enumerating objects: 1, done.\u001b[K\n",
      "remote: Counting objects: 100% (1/1), done.\u001b[K\n",
      "remote: Total 4 (delta 1), reused 1 (delta 1), pack-reused 3\u001b[K\n",
      "Unpacking objects: 100% (4/4), done.\n",
      "From https://github.com/dustykat/ce3372-psuedo-course\n",
      "   383b421..62c6357  main       -> origin/main\n",
      "Updating 383b421..62c6357\n",
      "Fast-forward\n",
      " ..._ExportFile_37393.202127_Exam 1 Placeholder(1).zip | Bin \u001b[31m0\u001b[m -> \u001b[32m3819634\u001b[m bytes\n",
      " 1 file changed, 0 insertions(+), 0 deletions(-)\n",
      " create mode 100644 10-Tests-BB-Format/Test_ExportFile_37393.202127_Exam 1 Placeholder(1).zip\n"
     ]
    }
   ],
   "source": [
    "! git pull"
   ]
  },
  {
   "cell_type": "code",
   "execution_count": null,
   "metadata": {},
   "outputs": [],
   "source": []
  }
 ],
 "metadata": {
  "kernelspec": {
   "display_name": "Python 38",
   "language": "python",
   "name": "python38"
  },
  "language_info": {
   "codemirror_mode": {
    "name": "ipython",
    "version": 3
   },
   "file_extension": ".py",
   "mimetype": "text/x-python",
   "name": "python",
   "nbconvert_exporter": "python",
   "pygments_lexer": "ipython3",
   "version": "3.8.3"
  }
 },
 "nbformat": 4,
 "nbformat_minor": 4
}
