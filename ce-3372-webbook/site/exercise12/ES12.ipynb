{
 "cells": [
  {
   "cell_type": "markdown",
   "metadata": {},
   "source": [
    "# ES-12\n",
    "\n",
    "## Purpose:\n",
    "Apply rational method conduit sizing to a small watershed.  "
   ]
  },
  {
   "cell_type": "markdown",
   "metadata": {},
   "source": [
    "## Background\n",
    "\n",
    "Figure 1 is an older (circa 1993) aerial image of a portion of Houston, Texas.  The redpolygon  is  the  drainage  boundary  for  a  storm  sewer  system  that  drains  North  fromthe part of the area near Westheimer Road to a tributary of Buffalo Bayou and Eastfrom  the  area.   The  drainage  ditch  is  shown  as  the  “blue”  fuzzy  line  on  the  figure.Drainage in the ditch is from West to East.  The two main streets in the study areaare highlighted in magenta.\n",
    "\n",
    "||![](Image118.png)||\n",
    "|---|---|---|\n",
    "\n",
    "||Figure 1. Tanglewilde Drive Study Area||\n",
    "|---|---|---|\n",
    "||Image file @[https://3.137.111.182/ce-3372-webbook/exercise12/Image118.png](https://3.137.111.182/ce-3372-webbook/exercise12/Image118.png)||\n"
   ]
  },
  {
   "cell_type": "markdown",
   "metadata": {},
   "source": [
    "Figure 2 is a map showing storm drainage alignments and inlets location.  The figure shows land surface elevations in feet at the indicated locations. A distance scale is shown in the legend.\n",
    "\n",
    "||![](Image119B.png)||\n",
    "|---|---|---|\n",
    "\n",
    "||Figure 2. Tanglewilde Drive Storm Drain Inlet and Pipe Alignments||\n",
    "|---|---|---|\n",
    "||Image file @[https://3.137.111.182/ce-3372-webbook/exercise12/Image119B.png](https://3.137.111.182/ce-3372-webbook/exercise12/Image119B.png)| |\n",
    "||xyz-elevation file @[https://3.137.111.182/ce-3372-webbook/exercise12/TanglewildeElevations.txt](https://3.137.111.182/ce-3372-webbook/exercise12/TanglewildeElevations.txt)| |"
   ]
  },
  {
   "cell_type": "markdown",
   "metadata": {},
   "source": [
    "---\n",
    "## Exercise Part 1\n",
    "\n",
    "a) Construct a land surface elevation contour map using the provided elevation and locations.\n",
    "\n",
    "b) Using your contour map, and hydrologic flow path analysis determine the drainage areas to each inlet node. \n",
    "\n",
    "c) Indicate which nodes, if any, you do not assign drainage (e.g. junction nodes simply for connecting pipes).\n",
    "\n",
    "---\n",
    "## Exercise Part 2\n",
    "\n",
    "d) Use the rational design method to size the conduits for a 5-year storm, for Harris County, Texas by:\n",
    "\n",
    "- Estimate the time of concentration using an appropriate method for each sub-catchment.\n",
    "\n",
    "- Using the NOAA Atlas 14, Volume 10 for Texas estimate the rainfall intensity for a 5-year ARI for each sub-catchment.\n",
    "\n",
    "- Using  (and  citing)  a  runoff  coefficient  table,  specify  the  runoff  coefficient  for  each sub-catchments.\n",
    "\n",
    "- Estimate  the  peak  discharge  for  the  sub-catchment  for  a  10-year  ARI  using  the Rational Method.\n",
    "\n",
    "---\n",
    "## Exercise Part 3\n",
    "\n",
    "e) Specify the invert (flow line) elevations of the nodes (inlets and junction boxes).\n",
    "\n",
    "f) Specify the soffit (crown) elevations for the pipes at each node.\n",
    "\n",
    "\n",
    "\n",
    "\n",
    "## Deliverables:\n",
    "\n",
    "Submit a technical memorandum with screen captures of the relevant components above. Include a description of how the results were obtained and a discussion and interpretation of the results.  Show representative calculations where appropriate.  Save your work in tables, you will reuse it in a future exercise.\n",
    "\n",
    "## References\n"
   ]
  },
  {
   "cell_type": "code",
   "execution_count": null,
   "metadata": {},
   "outputs": [],
   "source": []
  }
 ],
 "metadata": {
  "kernelspec": {
   "display_name": "Python 3",
   "language": "python",
   "name": "python3"
  },
  "language_info": {
   "codemirror_mode": {
    "name": "ipython",
    "version": 3
   },
   "file_extension": ".py",
   "mimetype": "text/x-python",
   "name": "python",
   "nbconvert_exporter": "python",
   "pygments_lexer": "ipython3",
   "version": "3.8.5"
  }
 },
 "nbformat": 4,
 "nbformat_minor": 4
}
