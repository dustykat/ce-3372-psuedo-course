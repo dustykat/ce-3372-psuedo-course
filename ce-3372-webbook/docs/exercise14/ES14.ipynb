{
 "cells": [
  {
   "cell_type": "markdown",
   "metadata": {},
   "source": [
    "# ES-14\n",
    "\n",
    "## Purpose:\n",
    "Apply rational method conduit sizing to a small watershed.  "
   ]
  },
  {
   "cell_type": "markdown",
   "metadata": {},
   "source": [
    "## Background\n",
    "\n",
    "Figure 1 is a map showing storm drainage alignments and inlets location.  The figure shows land surface elevations in feet at the indicated locations. A distance scale is shown in the legend.\n",
    "\n",
    "||![](Image119B.png)||\n",
    "|---|---|---|\n",
    "\n",
    "||Figure 1. Tanglewilde Drive Storm Drain Inlet and Pipe Alignments||\n",
    "|---|---|---|\n",
    "||Image file @[https://3.137.111.182/ce-3372-webbook/exercise12/Image119B.png](https://3.137.111.182/ce-3372-webbook/exercise12/Image119B.png)| |\n",
    "||Basemap image @[https://3.137.111.182/ce-3372-webbook/exercise14/ES14-Layout.bmp](https://3.137.111.182/ce-3372-webbook/exercise14/ES14-Layout.bmp)| |\n"
   ]
  },
  {
   "cell_type": "markdown",
   "metadata": {},
   "source": [
    "---\n",
    "## Exercise \n",
    "\n",
    "Using your initial maps and conduit sizing from an earlier exercise (ES-12), which covers the same location, test the design using SWMM (Rossman, 2009) for a 5-yr, 6-hour storm applied to the entire study area. \n",
    "\n",
    "You can neglect the inlet specifications for your design and assume water that reaches the inlet will enter the sewer system (if it can). The design should include (provisional) drawings that specify the junction invert elevations at the different locations, the conduit diameters and flowlines, and the location of the hydraulic grade line for the design storm.\n",
    "\n",
    "---\n",
    "## Deliverables:\n",
    "\n",
    "Submit a technical memorandum with screen captures of the relevant components above. Include a description of how the results were obtained and a discussion and interpretation of the results.  Show representative calculations where appropriate.  \n",
    "\n",
    "## References\n",
    "\n",
    "1. Rossman, L. (2009). Storm Water Management Model user's manual version 5.0. Technical Report EPA/600/R-05/040, U.S. Environmental Protection Agency, National Risk Management Research Laboratory Cincinnati, OH 45268.[https://3.137.111.182/ce-3372-webbook/readings/P100ERK4.pdf](https://3.137.111.182/ce-3372-webbook/readings/P100ERK4.pdf)\n",
    "\n",
    "2. Gironas, J., L. A. Roesner, and J. Davis (2009). Storm Water Management Model applications manual. Technical Report EPA/600/R-09/077, U.S. Environmental Protection Agency, National Risk Management Research Laboratory Cincinnati, OH 45268. [https://3.137.111.182/ce-3372-webbook/readings/Swmm_Apps_Manual.pdf](https://3.137.111.182/ce-3372-webbook/readings/Swmm_Apps_Manual.pdf)\n",
    "\n",
    "3. Cleveland, T.G., and Botkins, W. (2008). Hypothetical Watershed Modeling - Block B. Harris County Flood Control District Research Report in Support of the Floodwise Block-B Study. [https://3.137.111.182/ce-3372-webbook/readings/2008_1102_SWMM_Hypothetical.pdf](https://3.137.111.182/ce-3372-webbook/readings/2008_1102_SWMM_Hypothetical.pdf)\n",
    "\n",
    "\n",
    "\n",
    "4. <a href=\"https://3.137.111.182/ce-3372-webbook/exercise14/ES14-baseFile.inp\"> <img src=\"easy-button.png\" alt=\"HTML tutorial\" style=\"width:42px;height:42px;\"> </a> "
   ]
  },
  {
   "cell_type": "code",
   "execution_count": null,
   "metadata": {},
   "outputs": [],
   "source": []
  }
 ],
 "metadata": {
  "kernelspec": {
   "display_name": "Python 3",
   "language": "python",
   "name": "python3"
  },
  "language_info": {
   "codemirror_mode": {
    "name": "ipython",
    "version": 3
   },
   "file_extension": ".py",
   "mimetype": "text/x-python",
   "name": "python",
   "nbconvert_exporter": "python",
   "pygments_lexer": "ipython3",
   "version": "3.8.5"
  }
 },
 "nbformat": 4,
 "nbformat_minor": 4
}
