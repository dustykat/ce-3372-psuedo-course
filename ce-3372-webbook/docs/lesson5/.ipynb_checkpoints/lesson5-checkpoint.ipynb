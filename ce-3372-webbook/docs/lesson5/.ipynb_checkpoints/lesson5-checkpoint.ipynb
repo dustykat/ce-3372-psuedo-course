{
 "cells": [
  {
   "cell_type": "markdown",
   "metadata": {},
   "source": [
    "## CE 3372 Water Systems Design\n",
    "### Lesson 5. Pipeline Head Loss Models\n",
    "\n",
    "Water moves from higher to lower energy\n",
    "\n",
    "- Path of least resistance\n",
    "- Head is energy per unit weight of a fluid \n",
    "- Pumps are used to add energy to move water to a higher elevation or over a barrier \n",
    "\n",
    "- Gravity flow: Change in elevation provides the required energy \n",
    "- Pressure flow: Change in pressure provides the required energy \n",
    "\n",
    "Flowing water encounters friction/resistance; hence there is loss of energy along a flow path. \n",
    "The mean section velocity is related to cross sectional flow area and volumetric discharge as:\n",
    "\n",
    "$$ \\bar{V} = \\frac{Q}{A} $$"
   ]
  },
  {
   "cell_type": "markdown",
   "metadata": {},
   "source": [
    "#### Continunity at Different Sections\n",
    "\n",
    "#### Continunity at Junctions\n",
    "\n",
    "#### Energy Equation\n"
   ]
  },
  {
   "cell_type": "markdown",
   "metadata": {},
   "source": [
    "#### Example: Time to Drain a Storage Tank"
   ]
  },
  {
   "cell_type": "code",
   "execution_count": null,
   "metadata": {},
   "outputs": [],
   "source": []
  },
  {
   "cell_type": "markdown",
   "metadata": {},
   "source": [
    "#### Example: Steady Discharge between Two Reservoirs"
   ]
  },
  {
   "cell_type": "code",
   "execution_count": null,
   "metadata": {},
   "outputs": [],
   "source": []
  },
  {
   "cell_type": "markdown",
   "metadata": {},
   "source": [
    "### Head Loss Models (for losses in closed conduits)\n",
    "\n",
    "### Darcy-Weisbach\n",
    "\n",
    "#### Reynolds' \"$Re_d$\" Number\n",
    "\n",
    "#### Darcy-Weisbach \"$f$\" Factor"
   ]
  },
  {
   "cell_type": "code",
   "execution_count": null,
   "metadata": {},
   "outputs": [],
   "source": []
  },
  {
   "cell_type": "markdown",
   "metadata": {},
   "source": [
    "### Hazen-Williams\n",
    "\n",
    "#### Hazen-Williams \"C\" Factor\n",
    "\n",
    "#### Hydraulic Radius\n",
    "\n"
   ]
  },
  {
   "cell_type": "code",
   "execution_count": null,
   "metadata": {},
   "outputs": [],
   "source": []
  },
  {
   "cell_type": "markdown",
   "metadata": {},
   "source": [
    "### Chezy-Mannings\n",
    "\n",
    "#### Mannings \"n\" \n",
    "\n",
    "#### Hydraulic Radius\n",
    "\n"
   ]
  },
  {
   "cell_type": "code",
   "execution_count": null,
   "metadata": {},
   "outputs": [],
   "source": []
  },
  {
   "cell_type": "markdown",
   "metadata": {},
   "source": [
    "### Fitting (Minor) Losses"
   ]
  },
  {
   "cell_type": "markdown",
   "metadata": {},
   "source": [
    "---\n",
    "---\n",
    "## Computing Discharge from Specified Head Loss\n",
    "\n",
    "### Computational Thinking/Data Science Approach (ENGR 1330)\n",
    "\n",
    "CT/DS Approach\n",
    "\n",
    "* State the programming problem\n",
    "* Known (Inputs)\n",
    "* Unknown (Outputs)\n",
    "* Governing Equation(s)\n",
    "* Test the tool\n",
    "\n",
    "#### State the programming problem\n",
    "\n",
    "Build a tool that takes inputs for the Jain equation and produces an estimate of discharge\n",
    "\n",
    "Build an interface (notebook) that accepts the inputs, calls the function, and returns the computed discharge\n",
    "\n",
    "#### Known (Inputs)\n",
    "Engineer will specify: \n",
    "\n",
    "* Diameter, D; \n",
    "* Length of pipe, L; \n",
    "* Roughness height, e; \n",
    "* Viscosity, $\\nu$; \n",
    "* Gravitational acceleration constant, g;\n",
    "* Head loss\n",
    "\n",
    "#### Unknown (Outputs)\n",
    "The tool will compute and report Discharge, Q.\n",
    "\n",
    "#### Governing Equation(s)\n",
    "A compact form of the equation to be evaluated is\n",
    "\\begin{equation}\n",
    "Q=-0.965 D^2 \\sqrt{\\frac{gDh_f}{L}}ln( \\frac{k_s}{3.7D}+\\frac{1.78\\nu}{D\\sqrt{\\frac{gDh_f}{L}}} )\n",
    "\\end{equation}\n",
    "####  Test the tool"
   ]
  },
  {
   "cell_type": "code",
   "execution_count": 2,
   "metadata": {},
   "outputs": [],
   "source": [
    "#computation engine\n",
    "# import built in functions for log, sqrt\n",
    "from math import log,sqrt\n",
    "# Define the prototype function\n",
    "def jainQ(pipe_diameter,pipe_length,roughness,viscosity,grabity,head_loss):\n",
    "    egl_slope = head_loss/pipe_length\n",
    "    t1 = sqrt(grabity*pipe_diameter*egl_slope)\n",
    "    t2 = roughness/(3.7*pipe_diameter)\n",
    "    t3 = 1.78*viscosity\n",
    "    jainQ = (-0.965*pipe_diameter**2)*t1*log(t2 + t3/(pipe_diameter*t1))\n",
    "    return jainQ"
   ]
  },
  {
   "cell_type": "code",
   "execution_count": 3,
   "metadata": {},
   "outputs": [
    {
     "name": "stdin",
     "output_type": "stream",
     "text": [
      "Enter Pipe Diameter \n",
      " 1\n",
      "Enter Pipe Length \n",
      " 1000\n",
      "Enter Pipe Roughness Height \n",
      " 0.0026\n",
      "Enter liquid viscosity \n",
      " 5e-5\n",
      "Enter gravitational acceleration constant (unit system appropriate) \n",
      " 32\n",
      "Enter head loss \n",
      " 40\n"
     ]
    }
   ],
   "source": [
    "# interface engine\n",
    "# Get pipe diameter, use a simple error trap\n",
    "yes=0\n",
    "while yes == 0:\n",
    "    xnow = input(\"Enter Pipe Diameter \\n\")\n",
    "    try:\n",
    "        pipe_diameter = float(xnow)\n",
    "        yes =1\n",
    "    except:\n",
    "        print (\"Value should be numeric, try again \\n\")\n",
    "# Get pipe length, use a simple error trap\n",
    "yes=0\n",
    "while yes == 0:\n",
    "    xnow = input(\"Enter Pipe Length \\n\")\n",
    "    try:\n",
    "        pipe_length = float(xnow)\n",
    "        yes =1\n",
    "    except:\n",
    "        print (\"Value should be numeric, try again \\n\")\n",
    "# Get roughness, use a simple error trap\n",
    "yes=0\n",
    "while yes == 0:\n",
    "    xnow = input(\"Enter Pipe Roughness Height \\n\")\n",
    "    try:\n",
    "        roughness = float(xnow)\n",
    "        yes =1\n",
    "    except:\n",
    "        print (\"Value should be numeric, try again \\n\")\n",
    "# Get viscosity, use a simple error trap\n",
    "yes=0\n",
    "while yes == 0:\n",
    "    xnow = input(\"Enter liquid viscosity \\n\")\n",
    "    try:\n",
    "        viscosity = float(xnow)\n",
    "        yes =1\n",
    "    except:\n",
    "        print (\"Value should be numeric, try again \\n\")\n",
    "# Get grabity, use a simple error trap\n",
    "yes=0\n",
    "while yes == 0:\n",
    "    xnow = input(\"Enter gravitational acceleration constant (unit system appropriate) \\n\")\n",
    "    try:\n",
    "        grabity = float(xnow)\n",
    "        yes =1\n",
    "    except:\n",
    "        print (\"Value should be numeric, try again \\n\")\n",
    "# Get head loss, use a simple error trap\n",
    "yes=0\n",
    "while yes == 0:\n",
    "    xnow = input(\"Enter head loss \\n\")\n",
    "    try:\n",
    "        head_loss = float(xnow)\n",
    "        yes =1\n",
    "    except:\n",
    "        print (\"Value should be numeric, try again \\n\")"
   ]
  },
  {
   "cell_type": "code",
   "execution_count": 4,
   "metadata": {},
   "outputs": [
    {
     "name": "stdout",
     "output_type": "stream",
     "text": [
      "Pipe Diameter :  1.0\n",
      "Pipe Length :  1000.0\n",
      "Pipe Roughness Height :  0.0026\n",
      "Liquid Viscosity :  5e-05\n",
      "Gravitational acceleration constant :  32.0\n",
      "Head loss :  40.0\n",
      "Discharge :  7.8110495900862835\n"
     ]
    }
   ],
   "source": [
    "# now perform computation and construct output\n",
    "discharge = jainQ(pipe_diameter,pipe_length,roughness,viscosity,grabity,head_loss)\n",
    "# Echo inputs, and outputs\n",
    "print (\"Pipe Diameter : \", pipe_diameter)\n",
    "print (\"Pipe Length : \", pipe_length)\n",
    "print (\"Pipe Roughness Height : \", roughness)\n",
    "print (\"Liquid Viscosity : \", viscosity)\n",
    "print (\"Gravitational acceleration constant : \",grabity) \n",
    "print (\"Head loss : \",head_loss)\n",
    "print (\"Discharge : \",discharge)"
   ]
  },
  {
   "cell_type": "markdown",
   "metadata": {},
   "source": [
    "#### Refine the Tool for Generalization\n",
    "\n",
    "The refinement step would wrap the three parts above into a single function/notebook for simple use/reuse. If we save all three parts to a single file, we can access the script as we wish (using a JupyterLab magic function trick below.  The run command is obvious, but the -i means run interactive, and we supply the script name) "
   ]
  },
  {
   "cell_type": "code",
   "execution_count": 5,
   "metadata": {},
   "outputs": [
    {
     "name": "stdin",
     "output_type": "stream",
     "text": [
      "Enter Pipe Diameter \n",
      " 1\n",
      "Enter Pipe Length \n",
      " 1000\n",
      "Enter Pipe Roughness Height \n",
      " 0.0026\n",
      "Enter liquid viscosity \n",
      " 5e-5\n",
      "Enter gravitational acceleration constant (unit system appropriate) \n",
      " 32\n",
      "Enter head loss \n",
      " 40\n"
     ]
    },
    {
     "name": "stdout",
     "output_type": "stream",
     "text": [
      "Pipe Diameter :  1.0\n",
      "Pipe Length :  1000.0\n",
      "Pipe Roughness Height :  0.0026\n",
      "Liquid Viscosity :  5e-05\n",
      "Gravitational acceleration constant :  32.0\n",
      "Head loss :  40.0\n",
      "Discharge :  7.8110495900862835\n"
     ]
    }
   ],
   "source": [
    "%run -i getQfromH.py"
   ]
  },
  {
   "cell_type": "markdown",
   "metadata": {},
   "source": [
    "Lastly, we can put the script onto a server and access via a web interface."
   ]
  },
  {
   "cell_type": "code",
   "execution_count": null,
   "metadata": {},
   "outputs": [],
   "source": []
  }
 ],
 "metadata": {
  "kernelspec": {
   "display_name": "Python 3",
   "language": "python",
   "name": "python3"
  },
  "language_info": {
   "codemirror_mode": {
    "name": "ipython",
    "version": 3
   },
   "file_extension": ".py",
   "mimetype": "text/x-python",
   "name": "python",
   "nbconvert_exporter": "python",
   "pygments_lexer": "ipython3",
   "version": "3.8.5"
  }
 },
 "nbformat": 4,
 "nbformat_minor": 4
}
