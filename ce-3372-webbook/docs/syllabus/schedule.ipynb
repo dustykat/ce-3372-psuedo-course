{
 "cells": [
  {
   "cell_type": "code",
   "execution_count": 1,
   "metadata": {},
   "outputs": [
    {
     "data": {
      "text/html": [
       "<style>\n",
       "  table {margin-left: 0 !important;}\n",
       "</style>\n"
      ],
      "text/plain": [
       "<IPython.core.display.HTML object>"
      ]
     },
     "metadata": {},
     "output_type": "display_data"
    }
   ],
   "source": [
    "%%html\n",
    "<style>\n",
    "  table {margin-left: 0 !important;}\n",
    "</style>"
   ]
  },
  {
   "cell_type": "markdown",
   "metadata": {},
   "source": [
    "|id|date|topic|remark|\n",
    "|:---|:---|:---|:---|\n",
    "|1||introduction||\n",
    "|2||introduction|Workshop <br> - Install Anaconda <br> - Install EPANET <br> - Install SWMM |\n",
    "|3||Design guidelines <br> - Water Supply||\n",
    "|4||Demand Estimation <br> - Population models <br> - subtopic 2|Workshop <br> - Install EPANET |\n",
    "|5||Pipe Hydraulics <br> - Head Loss Formulas <br> - subtopic 2|Workshop <br> - JupyterLab Example <br> - EPANET Example |\n",
    "|6||Pump Hydraulics |Workshop <br> - JupyterLab Example <br> - EPANET Example |\n",
    "|7||Storage Hydraulics|Workshop <br> - JupyterLab Example <br> - EPANET Example |\n",
    "|8||Network Hydraulics|Workshop <br> - JupyterLab Example <br> - EPANET Example |\n",
    "|9||EPANET - Extended Period Simulation|Workshop <br> - EPANET Examples <br> - EPANET Eagle Pass Example|\n",
    "|10||EPANET - Water Quality Simulation|Workshop <br> - EPANET Examples |"
   ]
  },
  {
   "cell_type": "code",
   "execution_count": null,
   "metadata": {},
   "outputs": [],
   "source": []
  }
 ],
 "metadata": {
  "kernelspec": {
   "display_name": "Python 3",
   "language": "python",
   "name": "python3"
  },
  "language_info": {
   "codemirror_mode": {
    "name": "ipython",
    "version": 3
   },
   "file_extension": ".py",
   "mimetype": "text/x-python",
   "name": "python",
   "nbconvert_exporter": "python",
   "pygments_lexer": "ipython3",
   "version": "3.8.5"
  }
 },
 "nbformat": 4,
 "nbformat_minor": 4
}
