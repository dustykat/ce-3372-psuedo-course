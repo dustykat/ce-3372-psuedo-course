{
 "cells": [
  {
   "cell_type": "markdown",
   "metadata": {},
   "source": [
    "## CE 3372 Water Systems Design\n",
    "### Lesson 4. Pipeline Head Loss Models\n",
    "\n",
    "Water moves from higher to lower energy\n",
    "\n",
    "- Path of least resistance\n",
    "- Head is energy per unit weight of a fluid \n",
    "- Pumps are used to add energy to move water to a higher elevation or over a barrier \n",
    "\n",
    "- Gravity flow: Change in elevation provides the required energy \n",
    "- Pressure flow: Change in pressure provides the required energy \n",
    "\n",
    "Flowing water encounters friction/resistance; hence there is loss of energy along a flow path. \n",
    "The mean section velocity is related to cross sectional flow area and volumetric discharge as:\n",
    "\n",
    "$$ \\bar{V} = \\frac{Q}{A} $$"
   ]
  },
  {
   "cell_type": "markdown",
   "metadata": {},
   "source": [
    "#### Continunity at Junctions\n"
   ]
  },
  {
   "cell_type": "code",
   "execution_count": null,
   "metadata": {},
   "outputs": [],
   "source": []
  },
  {
   "cell_type": "markdown",
   "metadata": {},
   "source": [
    "---\n",
    "---\n",
    "## Computing Discharge from Specified Head Loss\n",
    "\n",
    "### Computational Thinking/Data Science Approach (ENGR 1330)\n",
    "\n",
    "CT/DS Approach\n",
    "* State the programming problem\n",
    "* Known (Inputs)\n",
    "* Unknown (Outputs)\n",
    "* Governing Equation(s)\n",
    "* Test the tool\n",
    "\n",
    "#### State the programming problem\n",
    "\n",
    "Build a tool that takes inputs for the Jain equation and produces an estimate of discharge\n",
    "\n",
    "Build an interface (notebook) that accepts the inputs, calls the function, and returns the computed discharge\n",
    "\n",
    "#### Known (Inputs)\n",
    "Engineer will specify: \n",
    "* Diameter, D; \n",
    "* Length of pipe, L; \n",
    "* Roughness height, e; \n",
    "* Viscosity, $\\nu$; \n",
    "* Gravitational acceleration constant, g;\n",
    "* Head loss\n",
    "\n",
    "#### Unknown (Outputs)\n",
    "The tool will compute and report Discharge, Q.\n",
    "\n",
    "#### Governing Equation(s)\n",
    "A compact form of the equation to be evaluated is\n",
    "\\begin{equation}\n",
    "Q=-0.965 D^2 \\sqrt{\\frac{gDh_f}{L}}ln( \\frac{k_s}{3.7D}+\\frac{1.78\\nu}{D\\sqrt{\\frac{gDh_f}{L}}} )\n",
    "\\end{equation}\n",
    "####  Test the tool"
   ]
  },
  {
   "cell_type": "code",
   "execution_count": 4,
   "metadata": {},
   "outputs": [],
   "source": [
    "#computation engine\n",
    "# import built in functions for log, sqrt\n",
    "from math import log,sqrt,log\n",
    "# Define the prototype function\n",
    "def jainQ(pipe_diameter,pipe_length,roughness,viscosity,grabity,head_loss):\n",
    "    egl_slope = head_loss/pipe_length\n",
    "    t1 = sqrt(grabity*pipe_diameter*egl_slope)\n",
    "    t2 = roughness/(3.7*pipe_diameter)\n",
    "    t3 = 1.78*viscosity\n",
    "    jainQ = (-0.965*pipe_diameter**2)*t1*log(t2 + t3/(pipe_diameter*t1))\n",
    "    return jainQ"
   ]
  },
  {
   "cell_type": "code",
   "execution_count": 5,
   "metadata": {},
   "outputs": [
    {
     "name": "stdin",
     "output_type": "stream",
     "text": [
      "Enter Pipe Diameter \n",
      " 2\n",
      "Enter Pipe Length \n",
      " 10560\n",
      "Enter Pipe Roughness Height \n",
      " 8.5e-5\n",
      "Enter liquid viscosity \n",
      " 1e-5\n",
      "Enter gravitational acceleration constant (unit system appropriate) \n",
      " 32.2\n",
      "Enter head loss \n",
      " 40\n"
     ]
    }
   ],
   "source": [
    "# interface engine\n",
    "# Get pipe diameter, use a simple error trap\n",
    "yes=0\n",
    "while yes == 0:\n",
    "    xnow = input(\"Enter Pipe Diameter \\n\")\n",
    "    try:\n",
    "        pipe_diameter = float(xnow)\n",
    "        yes =1\n",
    "    except:\n",
    "        print (\"Value should be numeric, try again \\n\")\n",
    "# Get pipe length, use a simple error trap\n",
    "yes=0\n",
    "while yes == 0:\n",
    "    xnow = input(\"Enter Pipe Length \\n\")\n",
    "    try:\n",
    "        pipe_length = float(xnow)\n",
    "        yes =1\n",
    "    except:\n",
    "        print (\"Value should be numeric, try again \\n\")\n",
    "# Get roughness, use a simple error trap\n",
    "yes=0\n",
    "while yes == 0:\n",
    "    xnow = input(\"Enter Pipe Roughness Height \\n\")\n",
    "    try:\n",
    "        roughness = float(xnow)\n",
    "        yes =1\n",
    "    except:\n",
    "        print (\"Value should be numeric, try again \\n\")\n",
    "# Get viscosity, use a simple error trap\n",
    "yes=0\n",
    "while yes == 0:\n",
    "    xnow = input(\"Enter liquid viscosity \\n\")\n",
    "    try:\n",
    "        viscosity = float(xnow)\n",
    "        yes =1\n",
    "    except:\n",
    "        print (\"Value should be numeric, try again \\n\")\n",
    "# Get grabity, use a simple error trap\n",
    "yes=0\n",
    "while yes == 0:\n",
    "    xnow = input(\"Enter gravitational acceleration constant (unit system appropriate) \\n\")\n",
    "    try:\n",
    "        grabity = float(xnow)\n",
    "        yes =1\n",
    "    except:\n",
    "        print (\"Value should be numeric, try again \\n\")\n",
    "# Get head loss, use a simple error trap\n",
    "yes=0\n",
    "while yes == 0:\n",
    "    xnow = input(\"Enter head loss \\n\")\n",
    "    try:\n",
    "        head_loss = float(xnow)\n",
    "        yes =1\n",
    "    except:\n",
    "        print (\"Value should be numeric, try again \\n\")"
   ]
  },
  {
   "cell_type": "code",
   "execution_count": 6,
   "metadata": {},
   "outputs": [
    {
     "name": "stdout",
     "output_type": "stream",
     "text": [
      "Pipe Diameter :  2.0\n",
      "Pipe Length :  10560.0\n",
      "Pipe Roughness Height :  8.5e-05\n",
      "Liquid Viscosity :  1e-05\n",
      "Gravitational acceleration constant :  32.2\n",
      "Head loss :  40.0\n",
      "Discharge :  19.8861362976099\n"
     ]
    }
   ],
   "source": [
    "# now perform computation and construct output\n",
    "discharge = jainQ(pipe_diameter,pipe_length,roughness,viscosity,grabity,head_loss)\n",
    "# Echo inputs, and outputs\n",
    "print (\"Pipe Diameter : \", pipe_diameter)\n",
    "print (\"Pipe Length : \", pipe_length)\n",
    "print (\"Pipe Roughness Height : \", roughness)\n",
    "print (\"Liquid Viscosity : \", viscosity)\n",
    "print (\"Gravitational acceleration constant : \",grabity) \n",
    "print (\"Head loss : \",head_loss)\n",
    "print (\"Discharge : \",discharge)"
   ]
  },
  {
   "cell_type": "markdown",
   "metadata": {},
   "source": [
    "#### Refine the Tool for Generalization\n",
    "\n",
    "The refinement step would wrap the three parts above into a single function/notebook for simple use/reuse. If we save all three parts to a single file, we can access the script as we wish."
   ]
  },
  {
   "cell_type": "code",
   "execution_count": 8,
   "metadata": {},
   "outputs": [],
   "source": [
    "import getQfromH"
   ]
  },
  {
   "cell_type": "code",
   "execution_count": 7,
   "metadata": {},
   "outputs": [
    {
     "ename": "NameError",
     "evalue": "name 'QfromH' is not defined",
     "output_type": "error",
     "traceback": [
      "\u001b[0;31m---------------------------------------------------------------------------\u001b[0m",
      "\u001b[0;31mNameError\u001b[0m                                 Traceback (most recent call last)",
      "\u001b[0;32m<ipython-input-7-63e25b2ba74a>\u001b[0m in \u001b[0;36m<module>\u001b[0;34m\u001b[0m\n\u001b[0;32m----> 1\u001b[0;31m \u001b[0mQfromH\u001b[0m\u001b[0;34m(\u001b[0m\u001b[0;34m)\u001b[0m\u001b[0;34m\u001b[0m\u001b[0;34m\u001b[0m\u001b[0m\n\u001b[0m",
      "\u001b[0;31mNameError\u001b[0m: name 'QfromH' is not defined"
     ]
    }
   ],
   "source": [
    "QfromH()"
   ]
  },
  {
   "cell_type": "code",
   "execution_count": null,
   "metadata": {},
   "outputs": [],
   "source": []
  }
 ],
 "metadata": {
  "kernelspec": {
   "display_name": "Python 3",
   "language": "python",
   "name": "python3"
  },
  "language_info": {
   "codemirror_mode": {
    "name": "ipython",
    "version": 3
   },
   "file_extension": ".py",
   "mimetype": "text/x-python",
   "name": "python",
   "nbconvert_exporter": "python",
   "pygments_lexer": "ipython3",
   "version": "3.8.5"
  }
 },
 "nbformat": 4,
 "nbformat_minor": 4
}
