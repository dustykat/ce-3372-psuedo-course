{
 "cells": [
  {
   "cell_type": "markdown",
   "metadata": {},
   "source": [
    "# ES-13\n",
    "\n",
    "## Purpose:\n",
    "Design and analyze a storm drain system for a small watershed.  "
   ]
  },
  {
   "cell_type": "markdown",
   "metadata": {},
   "source": [
    "## Background\n",
    "\n",
    "Figure 1 is a Somewhere USA from earlier in the course  \n",
    "\n",
    "||![](BasemapUSA.png)||\n",
    "|---|---|---|\n",
    "\n",
    "||Figure 1. Somewhere USA Study Area||\n",
    "|---|---|---|\n",
    "||Image file @[https://3.137.111.182/ce-3372-webbook/exercise13/BasemapUSA.png](https://3.137.111.182/ce-3372-webbook/exercise13/BasemapUSA.png)||\n",
    "||Image file without water pipes and yellow polygons @[https://3.137.111.182/ce-3372-webbook/exercise13/SomewhereUSABaseMap.png](https://3.137.111.182/ce-3372-webbook/exercise13/SomewhereUSABaseMap.png)||\n"
   ]
  },
  {
   "cell_type": "markdown",
   "metadata": {},
   "source": [
    "---\n",
    "## Exercise\n",
    "\n",
    "Design  a  storm  sewer  system  that takes drainage from the study area and discharges into the stream in the upper right corner of the drawing (red circle).  Use Houston IDM criteria.  The storm sewer will have inlets and conduits, which run in the streets (underneath the streets of course).\n",
    "\n",
    "- Apply  the  rational  design  method  to  size  the  conduits  for  a  5-year  storm,  for Harris County, Texas.\n",
    "\n",
    "- Specify the invert (flow line) elevations of the nodes (inlets and junction boxes).\n",
    "\n",
    "- Specify the soffit (crown) elevations for the pipes at each node.\n",
    "\n",
    "- Construct and run a SWMM model of your drainage system,  and demonstrate that the system can convey the 5-year, 3-hour storm to the outfall without surcharge in the system\n",
    "\n",
    "## Deliverables:\n",
    "\n",
    "Submit a technical memorandum with screen captures of the relevant components above. Include a description of how the results were obtained and a discussion and interpretation of the results.  Show representative calculations where appropriate.  \n",
    "\n",
    "## References\n"
   ]
  },
  {
   "cell_type": "code",
   "execution_count": null,
   "metadata": {},
   "outputs": [],
   "source": []
  }
 ],
 "metadata": {
  "kernelspec": {
   "display_name": "Python 3",
   "language": "python",
   "name": "python3"
  },
  "language_info": {
   "codemirror_mode": {
    "name": "ipython",
    "version": 3
   },
   "file_extension": ".py",
   "mimetype": "text/x-python",
   "name": "python",
   "nbconvert_exporter": "python",
   "pygments_lexer": "ipython3",
   "version": "3.8.5"
  }
 },
 "nbformat": 4,
 "nbformat_minor": 4
}
