{
 "cells": [
  {
   "cell_type": "markdown",
   "metadata": {},
   "source": [
    "# ES-3\n",
    "\n",
    "## Purpose:\n",
    "Demonstrate ability to estimate demand for a subdivision-scale water distribution skeleton model.\n",
    "\n",
    "## Background\n",
    "Figure 1 is a layout of a hydraulic network model for the Somewhere USA subdivision. The blue line segments are pipes and are labeled (P1, P2,...).  The blue circles are nodes and are labeled (N1, N2,...).  The yellow polygons represent the lots assigned to each node; for example, node N2 supplies the six (6) lots located near the node.\n",
    "\n",
    "Figure 1 is a subdivision conceptual map for Somewhere, USA. The numbers on the map are land surface elevations located at the decimal points in the drawing. Along the bottom edge of the map is a black line segment (with arrowheads at each end) that indicates a distance of 1,100 feet on the map. The black circle in the lower left hand corner is to be used as an origin for X-Y measurements for making XYZ data files.\n",
    "\n",
    "![](SomewhereUSANetworkMap.png)\n",
    "\n",
    "|Figure 1.  Water Distribution System Hydraulic Model for Somewhere USA|\n",
    "|---|\n",
    "\n",
    "The semester design project is the conceptual design and analysis of a water distribution, stormwater collection, and wastewater collection system for this subdivision. The water distribution system uses the skeleton layout above. The .png file is [located here](https://3.137.111.182/ce-3372-webbook/exercise3/SomewhereUSANetworkMap.png) so you can render a larger graphic if needed."
   ]
  },
  {
   "cell_type": "markdown",
   "metadata": {},
   "source": [
    "## Exercise\n",
    "Estimate demand at nodes for the skeleton model by:\n",
    "\n",
    "1. Determine the number of lots served by each node, these will constitute the by-node service unit equivalent (SUE).\n",
    "2. Estimate the average daily demand (ADD), by-node, for distribution system usingSan Marcos, Texas water system design guidelines.\n",
    "3. Estimate the maximum daily demand (MDD), by-node, for the distribution systemusing San Marcos, Texas water system design guidelines.\n",
    "4. Estimate the maximum daily demand (MDD) + fire flow, by-node for the distribu-tion system using San Marcos, Texas water system design guidelines.\n",
    "5. Estimate  the  peak  hourly  demand  (PHD),  by-node,  for  the  distribution  systemusing San Marcos, Texas water system design guidelines.\n",
    "\n",
    "## Deliverables:\n",
    "\n",
    "Use your estimates to produce a 1-page report on the artitmetic employed to estimate demand, and a complete version of Table 1 below.  Save the table (in a file) – you will need it later in the design project RP-1, and include the table in your report.\n",
    "\n",
    "||Table 1:  Node Demands for Somewhere USA Distribution System||\n",
    "|:---|---|---:|\n",
    "\n",
    "|Node ID|SUE    |ADD     |MDD     |MDD+Fire |PHD    |\n",
    "|:------|------:|------:|------:|------:|------:|\n",
    "|N1  |   0|   0|   0|   0|   0|\n",
    "|N2  |   6|$\\dots$|$\\dots$|$\\dots$|$\\dots$|\n",
    "|N3  |  11|$\\dots$|$\\dots$|$\\dots$|$\\dots$|\n",
    "|$\\dots$|$\\dots$|$\\dots$|$\\dots$|$\\dots$|$\\dots$|\n",
    "|N54 |$\\dots$|$\\dots$|$\\dots$|$\\dots$|$\\dots$|\n",
    "|N55 |$\\dots$|$\\dots$|$\\dots$|$\\dots$|$\\dots$|\n",
    "|N56 |$\\dots$|$\\dots$|$\\dots$|$\\dots$|$\\dots$|"
   ]
  },
  {
   "cell_type": "markdown",
   "metadata": {},
   "source": []
  }
 ],
 "metadata": {
  "kernelspec": {
   "display_name": "Python 3",
   "language": "python",
   "name": "python3"
  },
  "language_info": {
   "codemirror_mode": {
    "name": "ipython",
    "version": 3
   },
   "file_extension": ".py",
   "mimetype": "text/x-python",
   "name": "python",
   "nbconvert_exporter": "python",
   "pygments_lexer": "ipython3",
   "version": "3.8.5"
  }
 },
 "nbformat": 4,
 "nbformat_minor": 4
}
