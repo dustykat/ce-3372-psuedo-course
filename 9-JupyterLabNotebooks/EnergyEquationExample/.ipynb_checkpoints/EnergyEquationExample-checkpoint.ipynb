{
 "cells": [
  {
   "cell_type": "code",
   "execution_count": null,
   "metadata": {},
   "outputs": [],
   "source": []
  },
  {
   "cell_type": "markdown",
   "metadata": {},
   "source": [
    "# Estimate Discharge between Two Reservoirs\n",
    "\n",
    "![](Drawing.png)\n",
    "\n",
    "Formulas:\n",
    "\n",
    "\\begin{equation}\n",
    "H_1 = H_2 + h_L\n",
    "\\end{equation}\n",
    "\n",
    "\\begin{equation}\n",
    "h_L = 0.136 * L * \\frac{Q^2}{\\pi^2 g D^5}\n",
    "\\end{equation}\n",
    "\n",
    "In our example,\n",
    "\n",
    "\\begin{equation}\n",
    "\\Delta z = H_1 - H_2 = h_L = 0.136 * L * \\frac{Q^2}{\\pi^2 g D^5}\n",
    "\\end{equation}\n",
    "\n",
    "or solving for Q\n",
    "\n",
    "\\begin{equation}\n",
    "Q = \\sqrt{\\frac{{\\Delta z} * {\\pi^2 g D^5}} {0.136 * L} }\n",
    "\\end{equation}"
   ]
  },
  {
   "cell_type": "code",
   "execution_count": 1,
   "metadata": {},
   "outputs": [
    {
     "name": "stdin",
     "output_type": "stream",
     "text": [
      "Enter Pipe Diameter \n",
      " 2\n",
      "Enter Pipe Length \n",
      " 10560\n",
      "Enter Delta z \n",
      " 20\n",
      "Enter Gravity \n",
      " 32.2\n"
     ]
    },
    {
     "name": "stdout",
     "output_type": "stream",
     "text": [
      "Discharge :  11.900532158203271\n"
     ]
    }
   ],
   "source": [
    "# import special values\n",
    "from math import pi,sqrt\n",
    "# interface engine\n",
    "# Get pipe diameter, use a simple error trap\n",
    "yes=0\n",
    "while yes == 0:\n",
    "    xnow = input(\"Enter Pipe Diameter \\n\")\n",
    "    try:\n",
    "        pipe_diameter = float(xnow)\n",
    "        yes =1\n",
    "    except:\n",
    "        print (\"Value should be numeric, try again \\n\")\n",
    "# Get pipe length, use a simple error trap\n",
    "yes=0\n",
    "while yes == 0:\n",
    "    xnow = input(\"Enter Pipe Length \\n\")\n",
    "    try:\n",
    "        pipe_length = float(xnow)\n",
    "        yes =1\n",
    "    except:\n",
    "        print (\"Value should be numeric, try again \\n\")\n",
    "# Get delta z, use a simple error trap\n",
    "yes=0\n",
    "while yes == 0:\n",
    "    xnow = input(\"Enter Delta z \\n\")\n",
    "    try:\n",
    "        deltaz = float(xnow)\n",
    "        yes =1\n",
    "    except:\n",
    "        print (\"Value should be numeric, try again \\n\")\n",
    "# Get gravity, use a simple error trap\n",
    "yes=0\n",
    "while yes == 0:\n",
    "    xnow = input(\"Enter Gravity \\n\")\n",
    "    try:\n",
    "        gravity = float(xnow)\n",
    "        yes =1\n",
    "    except:\n",
    "        print (\"Value should be numeric, try again \\n\")\n",
    "# Get roughness, use a simple error trap\n",
    "dischargeSQ = deltaz*(pi**2)*gravity*pipe_diameter**5/(0.136*pipe_length)\n",
    "discharge = sqrt(dischargeSQ)\n",
    "print(\"Discharge : \",discharge)"
   ]
  },
  {
   "cell_type": "code",
   "execution_count": null,
   "metadata": {},
   "outputs": [],
   "source": []
  },
  {
   "cell_type": "code",
   "execution_count": null,
   "metadata": {},
   "outputs": [],
   "source": []
  },
  {
   "cell_type": "code",
   "execution_count": null,
   "metadata": {},
   "outputs": [],
   "source": []
  },
  {
   "cell_type": "code",
   "execution_count": null,
   "metadata": {},
   "outputs": [],
   "source": []
  }
 ],
 "metadata": {
  "kernelspec": {
   "display_name": "Python 38",
   "language": "python",
   "name": "python38"
  },
  "language_info": {
   "codemirror_mode": {
    "name": "ipython",
    "version": 3
   },
   "file_extension": ".py",
   "mimetype": "text/x-python",
   "name": "python",
   "nbconvert_exporter": "python",
   "pygments_lexer": "ipython3",
   "version": "3.8.3"
  }
 },
 "nbformat": 4,
 "nbformat_minor": 4
}
