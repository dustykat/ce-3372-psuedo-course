{
 "cells": [
  {
   "cell_type": "markdown",
   "metadata": {},
   "source": [
    "# Computational Thinking/Data Science Approach for Head Loss (iPython kernel)\n",
    "This notebook provides the Jain Equations as presented in CE 3372\n",
    "\n",
    "CT/DS Approach\n",
    "* State the programming problem\n",
    "* Known (Inputs)\n",
    "* Unknown (Outputs)\n",
    "* Governing Equation(s)\n",
    "* Test the tool\n",
    "\n",
    "## State the programming problem\n",
    "\n",
    "Build a tool that takes inputs for the Jain equation and produces an estimate of discharge\n",
    "Build an interface (notebook) that accepts the inputs, calls the function, and returns the computed discharge\n",
    "\n",
    "## Known (Inputs)\n",
    "Engineer will specify: \n",
    "* Diameter, D; \n",
    "* Length of pipe, L; \n",
    "* Roughness height, e; \n",
    "* Viscosity, $\\nu$; \n",
    "* Gravitational acceleration constant, g;\n",
    "* Slope of the EGL (hf/L)\n",
    "\n",
    "## Unknown (Outputs)\n",
    "The tool will compute and report Discharge, Q.\n",
    "\n",
    "## Governing Equation(s)\n",
    "A compact form of the equation to be evaluated is\n",
    "\\begin{equation}\n",
    "Q=-0.965 D^2 \\sqrt{\\frac{gDh_f}{L}}ln( \\frac{k_s}{3.7D}+\\frac{1.78\\nu}{D\\sqrt{\\frac{gDh_f}{L}}} )\n",
    "\\end{equation}\n",
    "##  Test the tool"
   ]
  },
  {
   "cell_type": "code",
   "execution_count": 1,
   "metadata": {},
   "outputs": [],
   "source": [
    "#computation engine\n",
    "# import built in functions for log, sqrt\n",
    "from math import log,sqrt,log\n",
    "# Define the prototype function\n",
    "def jainQ(pipe_diameter,pipe_length,roughness,viscosity,grabity,head_loss):\n",
    "    egl_slope = head_loss/pipe_length\n",
    "    t1 = sqrt(grabity*pipe_diameter*egl_slope)\n",
    "    t2 = roughness/(3.7*pipe_diameter)\n",
    "    t3 = 1.78*viscosity\n",
    "    jainQ = (-0.965*pipe_diameter**2)*t1*log(t2 + t3/(pipe_diameter*t1))\n",
    "    return jainQ"
   ]
  },
  {
   "cell_type": "code",
   "execution_count": 2,
   "metadata": {},
   "outputs": [
    {
     "name": "stdin",
     "output_type": "stream",
     "text": [
      "Enter Pipe Diameter \n",
      " 0.05\n",
      "Enter Pipe Length \n",
      " 40\n",
      "Enter Pipe Roughness Height \n",
      " 0.00015\n",
      "Enter liquid viscosity \n",
      " 1e-6\n",
      "Enter gravitational acceleration constant (unit system appropriate) \n",
      " 9.8\n",
      "Enter head loss \n",
      " 44.8\n"
     ]
    }
   ],
   "source": [
    "# interface engine\n",
    "# Get pipe diameter, use a simple error trap\n",
    "yes=0\n",
    "while yes == 0:\n",
    "    xnow = input(\"Enter Pipe Diameter \\n\")\n",
    "    try:\n",
    "        pipe_diameter = float(xnow)\n",
    "        yes =1\n",
    "    except:\n",
    "        print (\"Value should be numeric, try again \\n\")\n",
    "# Get pipe length, use a simple error trap\n",
    "yes=0\n",
    "while yes == 0:\n",
    "    xnow = input(\"Enter Pipe Length \\n\")\n",
    "    try:\n",
    "        pipe_length = float(xnow)\n",
    "        yes =1\n",
    "    except:\n",
    "        print (\"Value should be numeric, try again \\n\")\n",
    "# Get roughness, use a simple error trap\n",
    "yes=0\n",
    "while yes == 0:\n",
    "    xnow = input(\"Enter Pipe Roughness Height \\n\")\n",
    "    try:\n",
    "        roughness = float(xnow)\n",
    "        yes =1\n",
    "    except:\n",
    "        print (\"Value should be numeric, try again \\n\")\n",
    "# Get viscosity, use a simple error trap\n",
    "yes=0\n",
    "while yes == 0:\n",
    "    xnow = input(\"Enter liquid viscosity \\n\")\n",
    "    try:\n",
    "        viscosity = float(xnow)\n",
    "        yes =1\n",
    "    except:\n",
    "        print (\"Value should be numeric, try again \\n\")\n",
    "# Get grabity, use a simple error trap\n",
    "yes=0\n",
    "while yes == 0:\n",
    "    xnow = input(\"Enter gravitational acceleration constant (unit system appropriate) \\n\")\n",
    "    try:\n",
    "        grabity = float(xnow)\n",
    "        yes =1\n",
    "    except:\n",
    "        print (\"Value should be numeric, try again \\n\")\n",
    "# Get head loss, use a simple error trap\n",
    "yes=0\n",
    "while yes == 0:\n",
    "    xnow = input(\"Enter head loss \\n\")\n",
    "    try:\n",
    "        head_loss = float(xnow)\n",
    "        yes =1\n",
    "    except:\n",
    "        print (\"Value should be numeric, try again \\n\")"
   ]
  },
  {
   "cell_type": "code",
   "execution_count": 3,
   "metadata": {},
   "outputs": [
    {
     "name": "stdout",
     "output_type": "stream",
     "text": [
      "Pipe Diameter :  0.05\n",
      "Pipe Length :  40.0\n",
      "Pipe Roughness Height :  0.00015\n",
      "Liquid Viscosity :  1e-06\n",
      "Gravitational acceleration constant :  9.8\n",
      "Head loss :  44.8\n",
      "Discharge :  0.012617483831561195\n"
     ]
    }
   ],
   "source": [
    "# now perform computation and construct output\n",
    "discharge = jainQ(pipe_diameter,pipe_length,roughness,viscosity,grabity,head_loss)\n",
    "# Echo inputs, and outputs\n",
    "print (\"Pipe Diameter : \", pipe_diameter)\n",
    "print (\"Pipe Length : \", pipe_length)\n",
    "print (\"Pipe Roughness Height : \", roughness)\n",
    "print (\"Liquid Viscosity : \", viscosity)\n",
    "print (\"Gravitational acceleration constant : \",grabity) \n",
    "print (\"Head loss : \",head_loss)\n",
    "print (\"Discharge : \",discharge)"
   ]
  },
  {
   "cell_type": "code",
   "execution_count": null,
   "metadata": {},
   "outputs": [],
   "source": []
  },
  {
   "cell_type": "code",
   "execution_count": null,
   "metadata": {},
   "outputs": [],
   "source": []
  }
 ],
 "metadata": {
  "kernelspec": {
   "display_name": "Python 3",
   "language": "python",
   "name": "python3"
  },
  "language_info": {
   "codemirror_mode": {
    "name": "ipython",
    "version": 3
   },
   "file_extension": ".py",
   "mimetype": "text/x-python",
   "name": "python",
   "nbconvert_exporter": "python",
   "pygments_lexer": "ipython3",
   "version": "3.6.9"
  }
 },
 "nbformat": 4,
 "nbformat_minor": 4
}
