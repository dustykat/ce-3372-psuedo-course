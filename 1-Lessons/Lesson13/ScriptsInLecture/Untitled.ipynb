{
 "cells": [
  {
   "cell_type": "code",
   "execution_count": 6,
   "metadata": {},
   "outputs": [
    {
     "name": "stdout",
     "output_type": "stream",
     "text": [
      "/home/theodore/smb-atk-theo/university-courses/ce-3372/1-Lessons/Lesson13/ScriptsInLecture\n",
      "Archive:  Partial-Full-Circular-Conduit-Tabular-SI.zip\n",
      "   creating: Partial-Full-Circular-Conduit-Tabular-SI/\n",
      "  inflating: Partial-Full-Circular-Conduit-Tabular-SI/circular-pipe-flow-tabular-si.xlsx  \n"
     ]
    }
   ],
   "source": [
    "! pwd\n",
    "! unzip Partial-Full-Circular-Conduit-Tabular-SI.zip"
   ]
  },
  {
   "cell_type": "code",
   "execution_count": null,
   "metadata": {},
   "outputs": [],
   "source": []
  }
 ],
 "metadata": {
  "kernelspec": {
   "display_name": "Python 3",
   "language": "python",
   "name": "python3"
  },
  "language_info": {
   "codemirror_mode": {
    "name": "ipython",
    "version": 3
   },
   "file_extension": ".py",
   "mimetype": "text/x-python",
   "name": "python",
   "nbconvert_exporter": "python",
   "pygments_lexer": "ipython3",
   "version": "3.8.2"
  }
 },
 "nbformat": 4,
 "nbformat_minor": 4
}
